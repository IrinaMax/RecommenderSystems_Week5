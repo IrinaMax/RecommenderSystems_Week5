{
 "cells": [
  {
   "cell_type": "markdown",
   "metadata": {},
   "source": [
    "# Building a song recommender"
   ]
  },
  {
   "cell_type": "code",
   "execution_count": 4,
   "metadata": {
    "collapsed": false
   },
   "outputs": [],
   "source": [
    "%matplotlib inline\n",
    "\n",
    "import pandas\n",
    "from sklearn.cross_validation import train_test_split\n",
    "import numpy as np\n",
    "import time\n",
    "from sklearn.externals import joblib\n",
    "import Recommenders as Recommenders\n",
    "import Evaluation as Evaluation"
   ]
  },
  {
   "cell_type": "markdown",
   "metadata": {},
   "source": [
    "# Load music data"
   ]
  },
  {
   "cell_type": "code",
   "execution_count": 5,
   "metadata": {
    "collapsed": false
   },
   "outputs": [],
   "source": [
    "#song_sf = graphlab.SFrame('song_data.gl/')\n",
    "#song_sf.save('song_data.csv', format = 'csv')\n",
    "song_df =  pandas.read_csv('song_data.csv')"
   ]
  },
  {
   "cell_type": "markdown",
   "metadata": {},
   "source": [
    "# Explore data\n",
    "\n",
    "Music data shows how many times a user listened to a song, as well as the details of the song."
   ]
  },
  {
   "cell_type": "code",
   "execution_count": 6,
   "metadata": {
    "collapsed": false
   },
   "outputs": [
    {
     "data": {
      "text/html": [
       "<div>\n",
       "<table border=\"1\" class=\"dataframe\">\n",
       "  <thead>\n",
       "    <tr style=\"text-align: right;\">\n",
       "      <th></th>\n",
       "      <th>user_id</th>\n",
       "      <th>song_id</th>\n",
       "      <th>listen_count</th>\n",
       "      <th>title</th>\n",
       "      <th>artist</th>\n",
       "      <th>song</th>\n",
       "    </tr>\n",
       "  </thead>\n",
       "  <tbody>\n",
       "    <tr>\n",
       "      <th>0</th>\n",
       "      <td>b80344d063b5ccb3212f76538f3d9e43d87dca9e</td>\n",
       "      <td>SOAKIMP12A8C130995</td>\n",
       "      <td>1</td>\n",
       "      <td>The Cove</td>\n",
       "      <td>Jack Johnson</td>\n",
       "      <td>The Cove - Jack Johnson</td>\n",
       "    </tr>\n",
       "    <tr>\n",
       "      <th>1</th>\n",
       "      <td>b80344d063b5ccb3212f76538f3d9e43d87dca9e</td>\n",
       "      <td>SOBBMDR12A8C13253B</td>\n",
       "      <td>2</td>\n",
       "      <td>Entre Dos Aguas</td>\n",
       "      <td>Paco De Lucia</td>\n",
       "      <td>Entre Dos Aguas - Paco De Lucia</td>\n",
       "    </tr>\n",
       "    <tr>\n",
       "      <th>2</th>\n",
       "      <td>b80344d063b5ccb3212f76538f3d9e43d87dca9e</td>\n",
       "      <td>SOBXHDL12A81C204C0</td>\n",
       "      <td>1</td>\n",
       "      <td>Stronger</td>\n",
       "      <td>Kanye West</td>\n",
       "      <td>Stronger - Kanye West</td>\n",
       "    </tr>\n",
       "    <tr>\n",
       "      <th>3</th>\n",
       "      <td>b80344d063b5ccb3212f76538f3d9e43d87dca9e</td>\n",
       "      <td>SOBYHAJ12A6701BF1D</td>\n",
       "      <td>1</td>\n",
       "      <td>Constellations</td>\n",
       "      <td>Jack Johnson</td>\n",
       "      <td>Constellations - Jack Johnson</td>\n",
       "    </tr>\n",
       "    <tr>\n",
       "      <th>4</th>\n",
       "      <td>b80344d063b5ccb3212f76538f3d9e43d87dca9e</td>\n",
       "      <td>SODACBL12A8C13C273</td>\n",
       "      <td>1</td>\n",
       "      <td>Learn To Fly</td>\n",
       "      <td>Foo Fighters</td>\n",
       "      <td>Learn To Fly - Foo Fighters</td>\n",
       "    </tr>\n",
       "  </tbody>\n",
       "</table>\n",
       "</div>"
      ],
      "text/plain": [
       "                                    user_id             song_id  listen_count  \\\n",
       "0  b80344d063b5ccb3212f76538f3d9e43d87dca9e  SOAKIMP12A8C130995             1   \n",
       "1  b80344d063b5ccb3212f76538f3d9e43d87dca9e  SOBBMDR12A8C13253B             2   \n",
       "2  b80344d063b5ccb3212f76538f3d9e43d87dca9e  SOBXHDL12A81C204C0             1   \n",
       "3  b80344d063b5ccb3212f76538f3d9e43d87dca9e  SOBYHAJ12A6701BF1D             1   \n",
       "4  b80344d063b5ccb3212f76538f3d9e43d87dca9e  SODACBL12A8C13C273             1   \n",
       "\n",
       "             title         artist                             song  \n",
       "0         The Cove   Jack Johnson          The Cove - Jack Johnson  \n",
       "1  Entre Dos Aguas  Paco De Lucia  Entre Dos Aguas - Paco De Lucia  \n",
       "2         Stronger     Kanye West            Stronger - Kanye West  \n",
       "3   Constellations   Jack Johnson    Constellations - Jack Johnson  \n",
       "4     Learn To Fly   Foo Fighters      Learn To Fly - Foo Fighters  "
      ]
     },
     "execution_count": 6,
     "metadata": {},
     "output_type": "execute_result"
    }
   ],
   "source": [
    "song_df.head()"
   ]
  },
  {
   "cell_type": "markdown",
   "metadata": {},
   "source": [
    "## Length of the dataset"
   ]
  },
  {
   "cell_type": "code",
   "execution_count": 7,
   "metadata": {
    "collapsed": false
   },
   "outputs": [
    {
     "data": {
      "text/plain": [
       "1116609"
      ]
     },
     "execution_count": 7,
     "metadata": {},
     "output_type": "execute_result"
    }
   ],
   "source": [
    "len(song_df)"
   ]
  },
  {
   "cell_type": "markdown",
   "metadata": {},
   "source": [
    "## Create a subset of the dataset"
   ]
  },
  {
   "cell_type": "code",
   "execution_count": 8,
   "metadata": {
    "collapsed": true
   },
   "outputs": [],
   "source": [
    "song_df = song_df.head(10000)"
   ]
  },
  {
   "cell_type": "markdown",
   "metadata": {},
   "source": [
    "## Showing the most popular songs in the dataset"
   ]
  },
  {
   "cell_type": "code",
   "execution_count": 9,
   "metadata": {
    "collapsed": false
   },
   "outputs": [
    {
     "data": {
      "text/html": [
       "<div>\n",
       "<table border=\"1\" class=\"dataframe\">\n",
       "  <thead>\n",
       "    <tr style=\"text-align: right;\">\n",
       "      <th></th>\n",
       "      <th>song</th>\n",
       "      <th>listen_count</th>\n",
       "      <th>percentage</th>\n",
       "    </tr>\n",
       "  </thead>\n",
       "  <tbody>\n",
       "    <tr>\n",
       "      <th>3699</th>\n",
       "      <td>Sehr kosmisch - Harmonia</td>\n",
       "      <td>50</td>\n",
       "      <td>0.50</td>\n",
       "    </tr>\n",
       "    <tr>\n",
       "      <th>1067</th>\n",
       "      <td>Dog Days Are Over (Radio Edit) - Florence + Th...</td>\n",
       "      <td>48</td>\n",
       "      <td>0.48</td>\n",
       "    </tr>\n",
       "    <tr>\n",
       "      <th>4690</th>\n",
       "      <td>Undo - Björk</td>\n",
       "      <td>46</td>\n",
       "      <td>0.46</td>\n",
       "    </tr>\n",
       "    <tr>\n",
       "      <th>5117</th>\n",
       "      <td>You're The One - Dwight Yoakam</td>\n",
       "      <td>43</td>\n",
       "      <td>0.43</td>\n",
       "    </tr>\n",
       "    <tr>\n",
       "      <th>3691</th>\n",
       "      <td>Secrets - OneRepublic</td>\n",
       "      <td>42</td>\n",
       "      <td>0.42</td>\n",
       "    </tr>\n",
       "    <tr>\n",
       "      <th>3511</th>\n",
       "      <td>Revelry - Kings Of Leon</td>\n",
       "      <td>38</td>\n",
       "      <td>0.38</td>\n",
       "    </tr>\n",
       "    <tr>\n",
       "      <th>1889</th>\n",
       "      <td>Horn Concerto No. 4 in E flat K495: II. Romanc...</td>\n",
       "      <td>36</td>\n",
       "      <td>0.36</td>\n",
       "    </tr>\n",
       "    <tr>\n",
       "      <th>1407</th>\n",
       "      <td>Fireflies - Charttraxx Karaoke</td>\n",
       "      <td>33</td>\n",
       "      <td>0.33</td>\n",
       "    </tr>\n",
       "    <tr>\n",
       "      <th>4412</th>\n",
       "      <td>The Scientist - Coldplay</td>\n",
       "      <td>28</td>\n",
       "      <td>0.28</td>\n",
       "    </tr>\n",
       "    <tr>\n",
       "      <th>1145</th>\n",
       "      <td>Drop The World - Lil Wayne / Eminem</td>\n",
       "      <td>25</td>\n",
       "      <td>0.25</td>\n",
       "    </tr>\n",
       "    <tr>\n",
       "      <th>1829</th>\n",
       "      <td>Hey_ Soul Sister - Train</td>\n",
       "      <td>25</td>\n",
       "      <td>0.25</td>\n",
       "    </tr>\n",
       "    <tr>\n",
       "      <th>4566</th>\n",
       "      <td>Tive Sim - Cartola</td>\n",
       "      <td>25</td>\n",
       "      <td>0.25</td>\n",
       "    </tr>\n",
       "    <tr>\n",
       "      <th>2726</th>\n",
       "      <td>Marry Me - Train</td>\n",
       "      <td>24</td>\n",
       "      <td>0.24</td>\n",
       "    </tr>\n",
       "    <tr>\n",
       "      <th>3086</th>\n",
       "      <td>OMG - Usher featuring will.i.am</td>\n",
       "      <td>23</td>\n",
       "      <td>0.23</td>\n",
       "    </tr>\n",
       "    <tr>\n",
       "      <th>126</th>\n",
       "      <td>Ain't Misbehavin - Sam Cooke</td>\n",
       "      <td>20</td>\n",
       "      <td>0.20</td>\n",
       "    </tr>\n",
       "    <tr>\n",
       "      <th>5044</th>\n",
       "      <td>Yellow - Coldplay</td>\n",
       "      <td>20</td>\n",
       "      <td>0.20</td>\n",
       "    </tr>\n",
       "    <tr>\n",
       "      <th>786</th>\n",
       "      <td>Clocks - Coldplay</td>\n",
       "      <td>19</td>\n",
       "      <td>0.19</td>\n",
       "    </tr>\n",
       "    <tr>\n",
       "      <th>3397</th>\n",
       "      <td>Pursuit Of Happiness (nightmare) - Kid Cudi / ...</td>\n",
       "      <td>19</td>\n",
       "      <td>0.19</td>\n",
       "    </tr>\n",
       "    <tr>\n",
       "      <th>679</th>\n",
       "      <td>Canada - Five Iron Frenzy</td>\n",
       "      <td>18</td>\n",
       "      <td>0.18</td>\n",
       "    </tr>\n",
       "    <tr>\n",
       "      <th>705</th>\n",
       "      <td>Catch You Baby (Steve Pitron &amp; Max Sanna Radio...</td>\n",
       "      <td>18</td>\n",
       "      <td>0.18</td>\n",
       "    </tr>\n",
       "    <tr>\n",
       "      <th>2660</th>\n",
       "      <td>Lucky (Album Version) - Jason Mraz &amp; Colbie Ca...</td>\n",
       "      <td>18</td>\n",
       "      <td>0.18</td>\n",
       "    </tr>\n",
       "    <tr>\n",
       "      <th>3497</th>\n",
       "      <td>Représente - Alliance Ethnik</td>\n",
       "      <td>18</td>\n",
       "      <td>0.18</td>\n",
       "    </tr>\n",
       "    <tr>\n",
       "      <th>4201</th>\n",
       "      <td>Teach Me How To Dougie - California Swag District</td>\n",
       "      <td>18</td>\n",
       "      <td>0.18</td>\n",
       "    </tr>\n",
       "    <tr>\n",
       "      <th>449</th>\n",
       "      <td>Billionaire [feat. Bruno Mars]  (Explicit Albu...</td>\n",
       "      <td>17</td>\n",
       "      <td>0.17</td>\n",
       "    </tr>\n",
       "    <tr>\n",
       "      <th>4723</th>\n",
       "      <td>Use Somebody - Kings Of Leon</td>\n",
       "      <td>17</td>\n",
       "      <td>0.17</td>\n",
       "    </tr>\n",
       "    <tr>\n",
       "      <th>610</th>\n",
       "      <td>Bulletproof - La Roux</td>\n",
       "      <td>16</td>\n",
       "      <td>0.16</td>\n",
       "    </tr>\n",
       "    <tr>\n",
       "      <th>492</th>\n",
       "      <td>Bleed It Out [Live At Milton Keynes] - Linkin ...</td>\n",
       "      <td>15</td>\n",
       "      <td>0.15</td>\n",
       "    </tr>\n",
       "    <tr>\n",
       "      <th>1699</th>\n",
       "      <td>Halo - Beyoncé</td>\n",
       "      <td>15</td>\n",
       "      <td>0.15</td>\n",
       "    </tr>\n",
       "    <tr>\n",
       "      <th>1453</th>\n",
       "      <td>Forever - Drake / Kanye West / Lil Wayne / Eminem</td>\n",
       "      <td>14</td>\n",
       "      <td>0.14</td>\n",
       "    </tr>\n",
       "    <tr>\n",
       "      <th>2220</th>\n",
       "      <td>Invalid - Tub Ring</td>\n",
       "      <td>14</td>\n",
       "      <td>0.14</td>\n",
       "    </tr>\n",
       "    <tr>\n",
       "      <th>...</th>\n",
       "      <td>...</td>\n",
       "      <td>...</td>\n",
       "      <td>...</td>\n",
       "    </tr>\n",
       "    <tr>\n",
       "      <th>5100</th>\n",
       "      <td>You Think I Ain't Worth A Dollar_ But I Feel L...</td>\n",
       "      <td>1</td>\n",
       "      <td>0.01</td>\n",
       "    </tr>\n",
       "    <tr>\n",
       "      <th>5101</th>\n",
       "      <td>You Were Meant For Me (LP Version) - Jewel</td>\n",
       "      <td>1</td>\n",
       "      <td>0.01</td>\n",
       "    </tr>\n",
       "    <tr>\n",
       "      <th>5103</th>\n",
       "      <td>You and Me - SOJA</td>\n",
       "      <td>1</td>\n",
       "      <td>0.01</td>\n",
       "    </tr>\n",
       "    <tr>\n",
       "      <th>5105</th>\n",
       "      <td>You'd Be So Nice To Come Home To - Julie London</td>\n",
       "      <td>1</td>\n",
       "      <td>0.01</td>\n",
       "    </tr>\n",
       "    <tr>\n",
       "      <th>5107</th>\n",
       "      <td>You'll Find A Way - Santogold</td>\n",
       "      <td>1</td>\n",
       "      <td>0.01</td>\n",
       "    </tr>\n",
       "    <tr>\n",
       "      <th>5108</th>\n",
       "      <td>You'll Never Find Another Love Like Mine (Albu...</td>\n",
       "      <td>1</td>\n",
       "      <td>0.01</td>\n",
       "    </tr>\n",
       "    <tr>\n",
       "      <th>5112</th>\n",
       "      <td>You're Crazy - Guns N' Roses</td>\n",
       "      <td>1</td>\n",
       "      <td>0.01</td>\n",
       "    </tr>\n",
       "    <tr>\n",
       "      <th>5113</th>\n",
       "      <td>You're Gonna Miss Me When I'm Gone - Brooks &amp; ...</td>\n",
       "      <td>1</td>\n",
       "      <td>0.01</td>\n",
       "    </tr>\n",
       "    <tr>\n",
       "      <th>5114</th>\n",
       "      <td>You're Not Alone - ATB</td>\n",
       "      <td>1</td>\n",
       "      <td>0.01</td>\n",
       "    </tr>\n",
       "    <tr>\n",
       "      <th>5115</th>\n",
       "      <td>You're Not Alone - Olive</td>\n",
       "      <td>1</td>\n",
       "      <td>0.01</td>\n",
       "    </tr>\n",
       "    <tr>\n",
       "      <th>5120</th>\n",
       "      <td>You've Lost That Lovin' Feelin' - Righteous Br...</td>\n",
       "      <td>1</td>\n",
       "      <td>0.01</td>\n",
       "    </tr>\n",
       "    <tr>\n",
       "      <th>5121</th>\n",
       "      <td>Young - Hollywood Undead</td>\n",
       "      <td>1</td>\n",
       "      <td>0.01</td>\n",
       "    </tr>\n",
       "    <tr>\n",
       "      <th>5122</th>\n",
       "      <td>Young Adult Friction - The Pains Of Being Pure...</td>\n",
       "      <td>1</td>\n",
       "      <td>0.01</td>\n",
       "    </tr>\n",
       "    <tr>\n",
       "      <th>5124</th>\n",
       "      <td>Your Arms Feel Like home - 3 Doors Down</td>\n",
       "      <td>1</td>\n",
       "      <td>0.01</td>\n",
       "    </tr>\n",
       "    <tr>\n",
       "      <th>5125</th>\n",
       "      <td>Your Every Idol - Telefon Tel Aviv</td>\n",
       "      <td>1</td>\n",
       "      <td>0.01</td>\n",
       "    </tr>\n",
       "    <tr>\n",
       "      <th>5126</th>\n",
       "      <td>Your Ex-Lover Is Dead (Album Version) - Stars</td>\n",
       "      <td>1</td>\n",
       "      <td>0.01</td>\n",
       "    </tr>\n",
       "    <tr>\n",
       "      <th>5128</th>\n",
       "      <td>Your Hand In Mine - Explosions In The Sky</td>\n",
       "      <td>1</td>\n",
       "      <td>0.01</td>\n",
       "    </tr>\n",
       "    <tr>\n",
       "      <th>5130</th>\n",
       "      <td>Your Love - The Outfield</td>\n",
       "      <td>1</td>\n",
       "      <td>0.01</td>\n",
       "    </tr>\n",
       "    <tr>\n",
       "      <th>5131</th>\n",
       "      <td>Your Love Is King - Sade</td>\n",
       "      <td>1</td>\n",
       "      <td>0.01</td>\n",
       "    </tr>\n",
       "    <tr>\n",
       "      <th>5132</th>\n",
       "      <td>Your Mother Should Have Told You - Robert Palmer</td>\n",
       "      <td>1</td>\n",
       "      <td>0.01</td>\n",
       "    </tr>\n",
       "    <tr>\n",
       "      <th>5133</th>\n",
       "      <td>Your Mother's Here To Stay  (LP Version) - All...</td>\n",
       "      <td>1</td>\n",
       "      <td>0.01</td>\n",
       "    </tr>\n",
       "    <tr>\n",
       "      <th>5134</th>\n",
       "      <td>Your Mouth - Telefon Tel Aviv</td>\n",
       "      <td>1</td>\n",
       "      <td>0.01</td>\n",
       "    </tr>\n",
       "    <tr>\n",
       "      <th>5136</th>\n",
       "      <td>Your Star - The All-American Rejects</td>\n",
       "      <td>1</td>\n",
       "      <td>0.01</td>\n",
       "    </tr>\n",
       "    <tr>\n",
       "      <th>5139</th>\n",
       "      <td>Youth Against Fascism - Sonic Youth</td>\n",
       "      <td>1</td>\n",
       "      <td>0.01</td>\n",
       "    </tr>\n",
       "    <tr>\n",
       "      <th>5145</th>\n",
       "      <td>Ziggy Stardust - Bauhaus</td>\n",
       "      <td>1</td>\n",
       "      <td>0.01</td>\n",
       "    </tr>\n",
       "    <tr>\n",
       "      <th>5147</th>\n",
       "      <td>in white rooms - Booka Shade</td>\n",
       "      <td>1</td>\n",
       "      <td>0.01</td>\n",
       "    </tr>\n",
       "    <tr>\n",
       "      <th>5149</th>\n",
       "      <td>ný Batterý - Sigur Ros</td>\n",
       "      <td>1</td>\n",
       "      <td>0.01</td>\n",
       "    </tr>\n",
       "    <tr>\n",
       "      <th>5150</th>\n",
       "      <td>paranoid android - Christopher O'Riley</td>\n",
       "      <td>1</td>\n",
       "      <td>0.01</td>\n",
       "    </tr>\n",
       "    <tr>\n",
       "      <th>5151</th>\n",
       "      <td>re:stacks - Bon Iver</td>\n",
       "      <td>1</td>\n",
       "      <td>0.01</td>\n",
       "    </tr>\n",
       "    <tr>\n",
       "      <th>5153</th>\n",
       "      <td>sun drums and soil - Four Tet</td>\n",
       "      <td>1</td>\n",
       "      <td>0.01</td>\n",
       "    </tr>\n",
       "  </tbody>\n",
       "</table>\n",
       "<p>5155 rows × 3 columns</p>\n",
       "</div>"
      ],
      "text/plain": [
       "                                                   song  listen_count  \\\n",
       "3699                           Sehr kosmisch - Harmonia            50   \n",
       "1067  Dog Days Are Over (Radio Edit) - Florence + Th...            48   \n",
       "4690                                       Undo - Björk            46   \n",
       "5117                     You're The One - Dwight Yoakam            43   \n",
       "3691                              Secrets - OneRepublic            42   \n",
       "3511                            Revelry - Kings Of Leon            38   \n",
       "1889  Horn Concerto No. 4 in E flat K495: II. Romanc...            36   \n",
       "1407                     Fireflies - Charttraxx Karaoke            33   \n",
       "4412                           The Scientist - Coldplay            28   \n",
       "1145                Drop The World - Lil Wayne / Eminem            25   \n",
       "1829                           Hey_ Soul Sister - Train            25   \n",
       "4566                                 Tive Sim - Cartola            25   \n",
       "2726                                   Marry Me - Train            24   \n",
       "3086                    OMG - Usher featuring will.i.am            23   \n",
       "126                        Ain't Misbehavin - Sam Cooke            20   \n",
       "5044                                  Yellow - Coldplay            20   \n",
       "786                                   Clocks - Coldplay            19   \n",
       "3397  Pursuit Of Happiness (nightmare) - Kid Cudi / ...            19   \n",
       "679                           Canada - Five Iron Frenzy            18   \n",
       "705   Catch You Baby (Steve Pitron & Max Sanna Radio...            18   \n",
       "2660  Lucky (Album Version) - Jason Mraz & Colbie Ca...            18   \n",
       "3497                       Représente - Alliance Ethnik            18   \n",
       "4201  Teach Me How To Dougie - California Swag District            18   \n",
       "449   Billionaire [feat. Bruno Mars]  (Explicit Albu...            17   \n",
       "4723                       Use Somebody - Kings Of Leon            17   \n",
       "610                               Bulletproof - La Roux            16   \n",
       "492   Bleed It Out [Live At Milton Keynes] - Linkin ...            15   \n",
       "1699                                     Halo - Beyoncé            15   \n",
       "1453  Forever - Drake / Kanye West / Lil Wayne / Eminem            14   \n",
       "2220                                 Invalid - Tub Ring            14   \n",
       "...                                                 ...           ...   \n",
       "5100  You Think I Ain't Worth A Dollar_ But I Feel L...             1   \n",
       "5101         You Were Meant For Me (LP Version) - Jewel             1   \n",
       "5103                                  You and Me - SOJA             1   \n",
       "5105    You'd Be So Nice To Come Home To - Julie London             1   \n",
       "5107                      You'll Find A Way - Santogold             1   \n",
       "5108  You'll Never Find Another Love Like Mine (Albu...             1   \n",
       "5112                       You're Crazy - Guns N' Roses             1   \n",
       "5113  You're Gonna Miss Me When I'm Gone - Brooks & ...             1   \n",
       "5114                             You're Not Alone - ATB             1   \n",
       "5115                           You're Not Alone - Olive             1   \n",
       "5120  You've Lost That Lovin' Feelin' - Righteous Br...             1   \n",
       "5121                           Young - Hollywood Undead             1   \n",
       "5122  Young Adult Friction - The Pains Of Being Pure...             1   \n",
       "5124            Your Arms Feel Like home - 3 Doors Down             1   \n",
       "5125                 Your Every Idol - Telefon Tel Aviv             1   \n",
       "5126      Your Ex-Lover Is Dead (Album Version) - Stars             1   \n",
       "5128          Your Hand In Mine - Explosions In The Sky             1   \n",
       "5130                           Your Love - The Outfield             1   \n",
       "5131                           Your Love Is King - Sade             1   \n",
       "5132   Your Mother Should Have Told You - Robert Palmer             1   \n",
       "5133  Your Mother's Here To Stay  (LP Version) - All...             1   \n",
       "5134                      Your Mouth - Telefon Tel Aviv             1   \n",
       "5136               Your Star - The All-American Rejects             1   \n",
       "5139                Youth Against Fascism - Sonic Youth             1   \n",
       "5145                           Ziggy Stardust - Bauhaus             1   \n",
       "5147                       in white rooms - Booka Shade             1   \n",
       "5149                             ný Batterý - Sigur Ros             1   \n",
       "5150             paranoid android - Christopher O'Riley             1   \n",
       "5151                               re:stacks - Bon Iver             1   \n",
       "5153                      sun drums and soil - Four Tet             1   \n",
       "\n",
       "      percentage  \n",
       "3699        0.50  \n",
       "1067        0.48  \n",
       "4690        0.46  \n",
       "5117        0.43  \n",
       "3691        0.42  \n",
       "3511        0.38  \n",
       "1889        0.36  \n",
       "1407        0.33  \n",
       "4412        0.28  \n",
       "1145        0.25  \n",
       "1829        0.25  \n",
       "4566        0.25  \n",
       "2726        0.24  \n",
       "3086        0.23  \n",
       "126         0.20  \n",
       "5044        0.20  \n",
       "786         0.19  \n",
       "3397        0.19  \n",
       "679         0.18  \n",
       "705         0.18  \n",
       "2660        0.18  \n",
       "3497        0.18  \n",
       "4201        0.18  \n",
       "449         0.17  \n",
       "4723        0.17  \n",
       "610         0.16  \n",
       "492         0.15  \n",
       "1699        0.15  \n",
       "1453        0.14  \n",
       "2220        0.14  \n",
       "...          ...  \n",
       "5100        0.01  \n",
       "5101        0.01  \n",
       "5103        0.01  \n",
       "5105        0.01  \n",
       "5107        0.01  \n",
       "5108        0.01  \n",
       "5112        0.01  \n",
       "5113        0.01  \n",
       "5114        0.01  \n",
       "5115        0.01  \n",
       "5120        0.01  \n",
       "5121        0.01  \n",
       "5122        0.01  \n",
       "5124        0.01  \n",
       "5125        0.01  \n",
       "5126        0.01  \n",
       "5128        0.01  \n",
       "5130        0.01  \n",
       "5131        0.01  \n",
       "5132        0.01  \n",
       "5133        0.01  \n",
       "5134        0.01  \n",
       "5136        0.01  \n",
       "5139        0.01  \n",
       "5145        0.01  \n",
       "5147        0.01  \n",
       "5149        0.01  \n",
       "5150        0.01  \n",
       "5151        0.01  \n",
       "5153        0.01  \n",
       "\n",
       "[5155 rows x 3 columns]"
      ]
     },
     "execution_count": 9,
     "metadata": {},
     "output_type": "execute_result"
    }
   ],
   "source": [
    "song_grouped = song_df.groupby(['song']).agg({'listen_count': 'count'}).reset_index()\n",
    "grouped_sum = song_grouped['listen_count'].sum()\n",
    "song_grouped['percentage']  = song_grouped['listen_count'].div(grouped_sum)*100\n",
    "song_grouped.sort_values(['listen_count', 'song'], ascending = [0,1])"
   ]
  },
  {
   "cell_type": "markdown",
   "metadata": {},
   "source": [
    "## Count number of unique users in the dataset"
   ]
  },
  {
   "cell_type": "code",
   "execution_count": 10,
   "metadata": {
    "collapsed": false
   },
   "outputs": [],
   "source": [
    "users = song_df['user_id'].unique()"
   ]
  },
  {
   "cell_type": "code",
   "execution_count": 11,
   "metadata": {
    "collapsed": false
   },
   "outputs": [
    {
     "data": {
      "text/plain": [
       "595"
      ]
     },
     "execution_count": 11,
     "metadata": {},
     "output_type": "execute_result"
    }
   ],
   "source": [
    "len(users)"
   ]
  },
  {
   "cell_type": "markdown",
   "metadata": {},
   "source": [
    "## Quiz 1. Count the number of unique songs in the dataset"
   ]
  },
  {
   "cell_type": "code",
   "execution_count": null,
   "metadata": {
    "collapsed": false
   },
   "outputs": [],
   "source": [
    "###Fill in the code here"
   ]
  },
  {
   "cell_type": "markdown",
   "metadata": {},
   "source": [
    "# Create a song recommender"
   ]
  },
  {
   "cell_type": "code",
   "execution_count": 12,
   "metadata": {
    "collapsed": false
   },
   "outputs": [
    {
     "name": "stdout",
     "output_type": "stream",
     "text": [
      "                                       user_id             song_id  \\\n",
      "7389  354cfdb566f543bb5b810a4d8959d974a30797fd  SOPLUOT12A6D4F7AC3   \n",
      "9275  0ec9cc33028dff6209aa49bf645ef64bdcbe00fc  SOHAZRY12A8C13BC47   \n",
      "2995  8fce200f3912e9608e3b1463cdb9c3529aab5c08  SOIBPQQ12A6310F0F4   \n",
      "5316  7ef2a3b074b34984f3f677bddde0f1813486cc10  SOUJWJW12A63110848   \n",
      "356   2b6c2f33bc0e887ea7c4411f58106805a1923280  SONYEOJ12A8C142E86   \n",
      "\n",
      "      listen_count                  title               artist  \\\n",
      "7389             1          Intergalactic         Beastie Boys   \n",
      "9275            12              Southside  Common / Kanye West   \n",
      "2995             1          I Bloom Blaum             Coldplay   \n",
      "5316             1  Sound Check (Gravity)             Gorillaz   \n",
      "356              6                  Breed              Nirvana   \n",
      "\n",
      "                                  song  \n",
      "7389      Intergalactic - Beastie Boys  \n",
      "9275   Southside - Common / Kanye West  \n",
      "2995          I Bloom Blaum - Coldplay  \n",
      "5316  Sound Check (Gravity) - Gorillaz  \n",
      "356                    Breed - Nirvana  \n"
     ]
    }
   ],
   "source": [
    "train_data, test_data = train_test_split(song_df, test_size = 0.20, random_state=0)\n",
    "print(train_data.head(5))"
   ]
  },
  {
   "cell_type": "markdown",
   "metadata": {},
   "source": [
    "## Simple popularity-based recommender class (Can be used as a black box)"
   ]
  },
  {
   "cell_type": "code",
   "execution_count": null,
   "metadata": {
    "collapsed": false
   },
   "outputs": [],
   "source": [
    "#Recommenders.popularity_recommender_py"
   ]
  },
  {
   "cell_type": "markdown",
   "metadata": {},
   "source": [
    "### Create an instance of popularity based recommender class"
   ]
  },
  {
   "cell_type": "code",
   "execution_count": 13,
   "metadata": {
    "collapsed": false
   },
   "outputs": [],
   "source": [
    "pm = Recommenders.popularity_recommender_py()\n",
    "pm.create(train_data, 'user_id', 'song')"
   ]
  },
  {
   "cell_type": "markdown",
   "metadata": {},
   "source": [
    "### Use the popularity model to make some predictions"
   ]
  },
  {
   "cell_type": "code",
   "execution_count": 14,
   "metadata": {
    "collapsed": false
   },
   "outputs": [
    {
     "data": {
      "text/html": [
       "<div>\n",
       "<table border=\"1\" class=\"dataframe\">\n",
       "  <thead>\n",
       "    <tr style=\"text-align: right;\">\n",
       "      <th></th>\n",
       "      <th>user_id</th>\n",
       "      <th>song</th>\n",
       "      <th>score</th>\n",
       "      <th>Rank</th>\n",
       "    </tr>\n",
       "  </thead>\n",
       "  <tbody>\n",
       "    <tr>\n",
       "      <th>3228</th>\n",
       "      <td>b80344d063b5ccb3212f76538f3d9e43d87dca9e</td>\n",
       "      <td>Sehr kosmisch - Harmonia</td>\n",
       "      <td>44</td>\n",
       "      <td>1</td>\n",
       "    </tr>\n",
       "    <tr>\n",
       "      <th>929</th>\n",
       "      <td>b80344d063b5ccb3212f76538f3d9e43d87dca9e</td>\n",
       "      <td>Dog Days Are Over (Radio Edit) - Florence + Th...</td>\n",
       "      <td>40</td>\n",
       "      <td>2</td>\n",
       "    </tr>\n",
       "    <tr>\n",
       "      <th>4097</th>\n",
       "      <td>b80344d063b5ccb3212f76538f3d9e43d87dca9e</td>\n",
       "      <td>Undo - Björk</td>\n",
       "      <td>35</td>\n",
       "      <td>3</td>\n",
       "    </tr>\n",
       "    <tr>\n",
       "      <th>3222</th>\n",
       "      <td>b80344d063b5ccb3212f76538f3d9e43d87dca9e</td>\n",
       "      <td>Secrets - OneRepublic</td>\n",
       "      <td>34</td>\n",
       "      <td>4</td>\n",
       "    </tr>\n",
       "    <tr>\n",
       "      <th>4464</th>\n",
       "      <td>b80344d063b5ccb3212f76538f3d9e43d87dca9e</td>\n",
       "      <td>You're The One - Dwight Yoakam</td>\n",
       "      <td>33</td>\n",
       "      <td>5</td>\n",
       "    </tr>\n",
       "    <tr>\n",
       "      <th>1231</th>\n",
       "      <td>b80344d063b5ccb3212f76538f3d9e43d87dca9e</td>\n",
       "      <td>Fireflies - Charttraxx Karaoke</td>\n",
       "      <td>29</td>\n",
       "      <td>6</td>\n",
       "    </tr>\n",
       "    <tr>\n",
       "      <th>3072</th>\n",
       "      <td>b80344d063b5ccb3212f76538f3d9e43d87dca9e</td>\n",
       "      <td>Revelry - Kings Of Leon</td>\n",
       "      <td>29</td>\n",
       "      <td>7</td>\n",
       "    </tr>\n",
       "    <tr>\n",
       "      <th>1654</th>\n",
       "      <td>b80344d063b5ccb3212f76538f3d9e43d87dca9e</td>\n",
       "      <td>Horn Concerto No. 4 in E flat K495: II. Romanc...</td>\n",
       "      <td>28</td>\n",
       "      <td>8</td>\n",
       "    </tr>\n",
       "    <tr>\n",
       "      <th>3849</th>\n",
       "      <td>b80344d063b5ccb3212f76538f3d9e43d87dca9e</td>\n",
       "      <td>The Scientist - Coldplay</td>\n",
       "      <td>23</td>\n",
       "      <td>9</td>\n",
       "    </tr>\n",
       "    <tr>\n",
       "      <th>1002</th>\n",
       "      <td>b80344d063b5ccb3212f76538f3d9e43d87dca9e</td>\n",
       "      <td>Drop The World - Lil Wayne / Eminem</td>\n",
       "      <td>22</td>\n",
       "      <td>10</td>\n",
       "    </tr>\n",
       "  </tbody>\n",
       "</table>\n",
       "</div>"
      ],
      "text/plain": [
       "                                       user_id  \\\n",
       "3228  b80344d063b5ccb3212f76538f3d9e43d87dca9e   \n",
       "929   b80344d063b5ccb3212f76538f3d9e43d87dca9e   \n",
       "4097  b80344d063b5ccb3212f76538f3d9e43d87dca9e   \n",
       "3222  b80344d063b5ccb3212f76538f3d9e43d87dca9e   \n",
       "4464  b80344d063b5ccb3212f76538f3d9e43d87dca9e   \n",
       "1231  b80344d063b5ccb3212f76538f3d9e43d87dca9e   \n",
       "3072  b80344d063b5ccb3212f76538f3d9e43d87dca9e   \n",
       "1654  b80344d063b5ccb3212f76538f3d9e43d87dca9e   \n",
       "3849  b80344d063b5ccb3212f76538f3d9e43d87dca9e   \n",
       "1002  b80344d063b5ccb3212f76538f3d9e43d87dca9e   \n",
       "\n",
       "                                                   song  score  Rank  \n",
       "3228                           Sehr kosmisch - Harmonia     44     1  \n",
       "929   Dog Days Are Over (Radio Edit) - Florence + Th...     40     2  \n",
       "4097                                       Undo - Björk     35     3  \n",
       "3222                              Secrets - OneRepublic     34     4  \n",
       "4464                     You're The One - Dwight Yoakam     33     5  \n",
       "1231                     Fireflies - Charttraxx Karaoke     29     6  \n",
       "3072                            Revelry - Kings Of Leon     29     7  \n",
       "1654  Horn Concerto No. 4 in E flat K495: II. Romanc...     28     8  \n",
       "3849                           The Scientist - Coldplay     23     9  \n",
       "1002                Drop The World - Lil Wayne / Eminem     22    10  "
      ]
     },
     "execution_count": 14,
     "metadata": {},
     "output_type": "execute_result"
    }
   ],
   "source": [
    "user_id = users[0]\n",
    "pm.recommend(user_id)"
   ]
  },
  {
   "cell_type": "markdown",
   "metadata": {},
   "source": [
    "### Quiz 2: Use the popularity based model to make predictions for the following user id (Note the difference in recommendations from the first user id)."
   ]
  },
  {
   "cell_type": "code",
   "execution_count": 15,
   "metadata": {
    "collapsed": false
   },
   "outputs": [],
   "source": [
    "user_id = users[3]\n",
    "###Fill in the code here"
   ]
  },
  {
   "cell_type": "markdown",
   "metadata": {},
   "source": [
    "## Build a song recommender with personalization\n",
    "\n",
    "We now create an item similarity based collaborative filtering model that allows us to make personalized recommendations to each user. "
   ]
  },
  {
   "cell_type": "markdown",
   "metadata": {},
   "source": [
    "## Class for an item similarity based personalized recommender system (Can be used as a black box)"
   ]
  },
  {
   "cell_type": "code",
   "execution_count": 16,
   "metadata": {
    "collapsed": false
   },
   "outputs": [],
   "source": [
    "#Recommenders.item_similarity_recommender_py"
   ]
  },
  {
   "cell_type": "markdown",
   "metadata": {},
   "source": [
    "### Create an instance of item similarity based recommender class"
   ]
  },
  {
   "cell_type": "code",
   "execution_count": 17,
   "metadata": {
    "collapsed": false
   },
   "outputs": [],
   "source": [
    "is_model = Recommenders.item_similarity_recommender_py()\n",
    "is_model.create(train_data, 'user_id', 'song')"
   ]
  },
  {
   "cell_type": "markdown",
   "metadata": {},
   "source": [
    "### Use the personalized model to make some song recommendations"
   ]
  },
  {
   "cell_type": "code",
   "execution_count": 18,
   "metadata": {
    "collapsed": false
   },
   "outputs": [
    {
     "name": "stdout",
     "output_type": "stream",
     "text": [
      "------------------------------------------------------------------------------------\n",
      "Training data songs for the user userid: b80344d063b5ccb3212f76538f3d9e43d87dca9e:\n",
      "------------------------------------------------------------------------------------\n",
      "Mykonos - Fleet Foxes\n",
      "Oh No - Andrew Bird\n",
      "I?'m A Steady Rollin? Man - Robert Johnson\n",
      "High and dry - Jorge Drexler\n",
      "Paper Gangsta - Lady GaGa\n",
      "Drive - Incubus\n",
      "Love Shack - The B-52's\n",
      "Sehr kosmisch - Harmonia\n",
      "Jewels And Gold - Angus & Julia Stone\n",
      "Entre Dos Aguas - Paco De Lucia\n",
      "All That We Perceive - Thievery Corporation\n",
      "Champion - Kanye West\n",
      "Learn To Fly - Foo Fighters\n",
      "He Doesn't Know Why - Fleet Foxes\n",
      "Stacked Actors - Foo Fighters\n",
      "I'll Be Missing You (Featuring Faith Evans & 112)(Album Version) - Puff Daddy\n",
      "Ragged Wood - Fleet Foxes\n",
      "Apuesta Por El Rock 'N' Roll - Héroes del Silencio\n",
      "Constellations - Jack Johnson\n",
      "Let It Be Sung - Jack Johnson / Matt Costa / Zach Gill / Dan Lebowitz / Steve Adams\n",
      "Stronger - Kanye West\n",
      "Behind The Sea [Live In Chicago] - Panic At The Disco\n",
      "Sun Giant - Fleet Foxes\n",
      "Neon - John Mayer\n",
      "City Love - John Mayer\n",
      "Clarity - John Mayer\n",
      "83 - John Mayer\n",
      "Moonshine - Jack Johnson\n",
      "Generator - Foo Fighters\n",
      "The Cove - Jack Johnson\n",
      "The Middle - Jimmy Eat World\n",
      "Country Road - Jack Johnson / Paula Fuga\n",
      "Warning - Incubus\n",
      "----------------------------------------------------------------------\n",
      "Recommendation process going on:\n",
      "----------------------------------------------------------------------\n",
      "No. of unique songs for the user: 33\n",
      "no. of unique songs in the training set: 4496\n",
      "Non zero values in cooccurence_matrix :2529\n"
     ]
    },
    {
     "data": {
      "text/html": [
       "<div>\n",
       "<table border=\"1\" class=\"dataframe\">\n",
       "  <thead>\n",
       "    <tr style=\"text-align: right;\">\n",
       "      <th></th>\n",
       "      <th>user_id</th>\n",
       "      <th>song</th>\n",
       "      <th>score</th>\n",
       "      <th>rank</th>\n",
       "    </tr>\n",
       "  </thead>\n",
       "  <tbody>\n",
       "    <tr>\n",
       "      <th>0</th>\n",
       "      <td>b80344d063b5ccb3212f76538f3d9e43d87dca9e</td>\n",
       "      <td>Your Protector - Fleet Foxes</td>\n",
       "      <td>0.038552</td>\n",
       "      <td>1</td>\n",
       "    </tr>\n",
       "    <tr>\n",
       "      <th>1</th>\n",
       "      <td>b80344d063b5ccb3212f76538f3d9e43d87dca9e</td>\n",
       "      <td>Quiet Houses - Fleet Foxes</td>\n",
       "      <td>0.038552</td>\n",
       "      <td>2</td>\n",
       "    </tr>\n",
       "    <tr>\n",
       "      <th>2</th>\n",
       "      <td>b80344d063b5ccb3212f76538f3d9e43d87dca9e</td>\n",
       "      <td>White Winter Hymnal - Fleet Foxes</td>\n",
       "      <td>0.038538</td>\n",
       "      <td>3</td>\n",
       "    </tr>\n",
       "    <tr>\n",
       "      <th>3</th>\n",
       "      <td>b80344d063b5ccb3212f76538f3d9e43d87dca9e</td>\n",
       "      <td>Times Like These - Foo Fighters</td>\n",
       "      <td>0.030303</td>\n",
       "      <td>4</td>\n",
       "    </tr>\n",
       "    <tr>\n",
       "      <th>4</th>\n",
       "      <td>b80344d063b5ccb3212f76538f3d9e43d87dca9e</td>\n",
       "      <td>This Lullaby - Queens Of The Stone Age</td>\n",
       "      <td>0.030303</td>\n",
       "      <td>5</td>\n",
       "    </tr>\n",
       "    <tr>\n",
       "      <th>5</th>\n",
       "      <td>b80344d063b5ccb3212f76538f3d9e43d87dca9e</td>\n",
       "      <td>Oh My God - Kaiser Chiefs</td>\n",
       "      <td>0.030303</td>\n",
       "      <td>6</td>\n",
       "    </tr>\n",
       "    <tr>\n",
       "      <th>6</th>\n",
       "      <td>b80344d063b5ccb3212f76538f3d9e43d87dca9e</td>\n",
       "      <td>You Think I Ain't Worth A Dollar_ But I Feel L...</td>\n",
       "      <td>0.030303</td>\n",
       "      <td>7</td>\n",
       "    </tr>\n",
       "    <tr>\n",
       "      <th>7</th>\n",
       "      <td>b80344d063b5ccb3212f76538f3d9e43d87dca9e</td>\n",
       "      <td>Piggy - Nine Inch Nails</td>\n",
       "      <td>0.030303</td>\n",
       "      <td>8</td>\n",
       "    </tr>\n",
       "    <tr>\n",
       "      <th>8</th>\n",
       "      <td>b80344d063b5ccb3212f76538f3d9e43d87dca9e</td>\n",
       "      <td>Young Adult Friction - The Pains Of Being Pure...</td>\n",
       "      <td>0.030303</td>\n",
       "      <td>9</td>\n",
       "    </tr>\n",
       "    <tr>\n",
       "      <th>9</th>\n",
       "      <td>b80344d063b5ccb3212f76538f3d9e43d87dca9e</td>\n",
       "      <td>Plug In Baby - Muse</td>\n",
       "      <td>0.030303</td>\n",
       "      <td>10</td>\n",
       "    </tr>\n",
       "  </tbody>\n",
       "</table>\n",
       "</div>"
      ],
      "text/plain": [
       "                                    user_id  \\\n",
       "0  b80344d063b5ccb3212f76538f3d9e43d87dca9e   \n",
       "1  b80344d063b5ccb3212f76538f3d9e43d87dca9e   \n",
       "2  b80344d063b5ccb3212f76538f3d9e43d87dca9e   \n",
       "3  b80344d063b5ccb3212f76538f3d9e43d87dca9e   \n",
       "4  b80344d063b5ccb3212f76538f3d9e43d87dca9e   \n",
       "5  b80344d063b5ccb3212f76538f3d9e43d87dca9e   \n",
       "6  b80344d063b5ccb3212f76538f3d9e43d87dca9e   \n",
       "7  b80344d063b5ccb3212f76538f3d9e43d87dca9e   \n",
       "8  b80344d063b5ccb3212f76538f3d9e43d87dca9e   \n",
       "9  b80344d063b5ccb3212f76538f3d9e43d87dca9e   \n",
       "\n",
       "                                                song     score  rank  \n",
       "0                       Your Protector - Fleet Foxes  0.038552     1  \n",
       "1                         Quiet Houses - Fleet Foxes  0.038552     2  \n",
       "2                  White Winter Hymnal - Fleet Foxes  0.038538     3  \n",
       "3                    Times Like These - Foo Fighters  0.030303     4  \n",
       "4             This Lullaby - Queens Of The Stone Age  0.030303     5  \n",
       "5                          Oh My God - Kaiser Chiefs  0.030303     6  \n",
       "6  You Think I Ain't Worth A Dollar_ But I Feel L...  0.030303     7  \n",
       "7                            Piggy - Nine Inch Nails  0.030303     8  \n",
       "8  Young Adult Friction - The Pains Of Being Pure...  0.030303     9  \n",
       "9                                Plug In Baby - Muse  0.030303    10  "
      ]
     },
     "execution_count": 18,
     "metadata": {},
     "output_type": "execute_result"
    }
   ],
   "source": [
    "#Print the songs for the user in training data\n",
    "user_id = users[0]\n",
    "user_items = is_model.get_user_items(user_id)\n",
    "#\n",
    "print(\"------------------------------------------------------------------------------------\")\n",
    "print(\"Training data songs for the user userid: %s:\" % user_id)\n",
    "print(\"------------------------------------------------------------------------------------\")\n",
    "\n",
    "for user_item in user_items:\n",
    "    print(user_item)\n",
    "\n",
    "print(\"----------------------------------------------------------------------\")\n",
    "print(\"Recommendation process going on:\")\n",
    "print(\"----------------------------------------------------------------------\")\n",
    "\n",
    "#Recommend songs for the user using personalized model\n",
    "is_model.recommend(user_id)"
   ]
  },
  {
   "cell_type": "markdown",
   "metadata": {},
   "source": [
    "### Quiz 3. Use the personalized model to make recommendations for the following user id. (Note the difference in recommendations from the first user id.)"
   ]
  },
  {
   "cell_type": "code",
   "execution_count": 19,
   "metadata": {
    "collapsed": false
   },
   "outputs": [],
   "source": [
    "user_id = users[3]\n",
    "#Fill in the code here"
   ]
  },
  {
   "cell_type": "markdown",
   "metadata": {},
   "source": [
    "### We can also apply the model to find similar songs to any song in the dataset"
   ]
  },
  {
   "cell_type": "code",
   "execution_count": 20,
   "metadata": {
    "collapsed": false
   },
   "outputs": [
    {
     "name": "stdout",
     "output_type": "stream",
     "text": [
      "no. of unique songs in the training set: 4496\n",
      "Non zero values in cooccurence_matrix :363\n"
     ]
    },
    {
     "data": {
      "text/html": [
       "<div>\n",
       "<table border=\"1\" class=\"dataframe\">\n",
       "  <thead>\n",
       "    <tr style=\"text-align: right;\">\n",
       "      <th></th>\n",
       "      <th>user_id</th>\n",
       "      <th>song</th>\n",
       "      <th>score</th>\n",
       "      <th>rank</th>\n",
       "    </tr>\n",
       "  </thead>\n",
       "  <tbody>\n",
       "    <tr>\n",
       "      <th>0</th>\n",
       "      <td></td>\n",
       "      <td>Clocks - Coldplay</td>\n",
       "      <td>0.258065</td>\n",
       "      <td>1</td>\n",
       "    </tr>\n",
       "    <tr>\n",
       "      <th>1</th>\n",
       "      <td></td>\n",
       "      <td>Don't Panic - Coldplay</td>\n",
       "      <td>0.173913</td>\n",
       "      <td>2</td>\n",
       "    </tr>\n",
       "    <tr>\n",
       "      <th>2</th>\n",
       "      <td></td>\n",
       "      <td>Yellow - Coldplay</td>\n",
       "      <td>0.147059</td>\n",
       "      <td>3</td>\n",
       "    </tr>\n",
       "    <tr>\n",
       "      <th>3</th>\n",
       "      <td></td>\n",
       "      <td>Lucky (Album Version) - Jason Mraz &amp; Colbie Ca...</td>\n",
       "      <td>0.147059</td>\n",
       "      <td>4</td>\n",
       "    </tr>\n",
       "    <tr>\n",
       "      <th>4</th>\n",
       "      <td></td>\n",
       "      <td>Pursuit Of Happiness (nightmare) - Kid Cudi / ...</td>\n",
       "      <td>0.147059</td>\n",
       "      <td>5</td>\n",
       "    </tr>\n",
       "    <tr>\n",
       "      <th>5</th>\n",
       "      <td></td>\n",
       "      <td>Life In Technicolor ii - Coldplay</td>\n",
       "      <td>0.125000</td>\n",
       "      <td>6</td>\n",
       "    </tr>\n",
       "    <tr>\n",
       "      <th>6</th>\n",
       "      <td></td>\n",
       "      <td>Bleed It Out [Live At Milton Keynes] - Linkin ...</td>\n",
       "      <td>0.103448</td>\n",
       "      <td>7</td>\n",
       "    </tr>\n",
       "    <tr>\n",
       "      <th>7</th>\n",
       "      <td></td>\n",
       "      <td>OMG - Usher featuring will.i.am</td>\n",
       "      <td>0.100000</td>\n",
       "      <td>8</td>\n",
       "    </tr>\n",
       "    <tr>\n",
       "      <th>8</th>\n",
       "      <td></td>\n",
       "      <td>Marry Me - Train</td>\n",
       "      <td>0.100000</td>\n",
       "      <td>9</td>\n",
       "    </tr>\n",
       "    <tr>\n",
       "      <th>9</th>\n",
       "      <td></td>\n",
       "      <td>Drop The World - Lil Wayne / Eminem</td>\n",
       "      <td>0.097561</td>\n",
       "      <td>10</td>\n",
       "    </tr>\n",
       "  </tbody>\n",
       "</table>\n",
       "</div>"
      ],
      "text/plain": [
       "  user_id                                               song     score  rank\n",
       "0                                          Clocks - Coldplay  0.258065     1\n",
       "1                                     Don't Panic - Coldplay  0.173913     2\n",
       "2                                          Yellow - Coldplay  0.147059     3\n",
       "3          Lucky (Album Version) - Jason Mraz & Colbie Ca...  0.147059     4\n",
       "4          Pursuit Of Happiness (nightmare) - Kid Cudi / ...  0.147059     5\n",
       "5                          Life In Technicolor ii - Coldplay  0.125000     6\n",
       "6          Bleed It Out [Live At Milton Keynes] - Linkin ...  0.103448     7\n",
       "7                            OMG - Usher featuring will.i.am  0.100000     8\n",
       "8                                           Marry Me - Train  0.100000     9\n",
       "9                        Drop The World - Lil Wayne / Eminem  0.097561    10"
      ]
     },
     "execution_count": 20,
     "metadata": {},
     "output_type": "execute_result"
    }
   ],
   "source": [
    "is_model.get_similar_items(['The Scientist - Coldplay'])"
   ]
  },
  {
   "cell_type": "markdown",
   "metadata": {},
   "source": [
    "### Quiz 4. Use the personalized recommender model to get similar songs for the following song."
   ]
  },
  {
   "cell_type": "code",
   "execution_count": null,
   "metadata": {
    "collapsed": true
   },
   "outputs": [],
   "source": [
    "song = 'Easily (Album Version) - Red Hot Chili Peppers'\n",
    "###Fill in the code here"
   ]
  },
  {
   "cell_type": "markdown",
   "metadata": {},
   "source": [
    "# Quantitative comparison between the models\n",
    "\n",
    "We now formally compare the popularity and the personalized models using precision-recall curves. "
   ]
  },
  {
   "cell_type": "markdown",
   "metadata": {},
   "source": [
    "## Class to calculate precision and recall (This can be used as a black box)"
   ]
  },
  {
   "cell_type": "code",
   "execution_count": null,
   "metadata": {
    "collapsed": false
   },
   "outputs": [],
   "source": [
    "#Evaluation.precision_recall_calculator"
   ]
  },
  {
   "cell_type": "markdown",
   "metadata": {},
   "source": [
    "## Use the above precision recall calculator class to calculate the evaluation measures"
   ]
  },
  {
   "cell_type": "code",
   "execution_count": 21,
   "metadata": {
    "collapsed": false
   },
   "outputs": [
    {
     "name": "stdout",
     "output_type": "stream",
     "text": [
      "Length of user_test_and_training:525\n",
      "Length of user sample:21\n",
      "Getting recommendations for user:645a5b400d31ce69611137da3ebd35d11d4dda4a\n",
      "No. of unique songs for the user: 19\n",
      "no. of unique songs in the training set: 4496\n",
      "Non zero values in cooccurence_matrix :650\n",
      "Getting recommendations for user:08d31ac4452516e702815fef13b2059aa8210034\n",
      "No. of unique songs for the user: 25\n",
      "no. of unique songs in the training set: 4496\n",
      "Non zero values in cooccurence_matrix :1183\n",
      "Getting recommendations for user:d605b7fe1645e05ff094b364b603456ce8126643\n",
      "No. of unique songs for the user: 20\n",
      "no. of unique songs in the training set: 4496\n",
      "Non zero values in cooccurence_matrix :1173\n",
      "Getting recommendations for user:cdcd976fdc8ac6375a807dcaee28d36fe00b6118\n",
      "No. of unique songs for the user: 4\n",
      "no. of unique songs in the training set: 4496\n",
      "Non zero values in cooccurence_matrix :20\n",
      "Getting recommendations for user:a699816c7f4f8855808eee732a5cbd1620091998\n",
      "No. of unique songs for the user: 21\n",
      "no. of unique songs in the training set: 4496\n",
      "Non zero values in cooccurence_matrix :999\n",
      "Getting recommendations for user:610eaa449a4793ea791ff12252845f6002794c2a\n",
      "No. of unique songs for the user: 27\n",
      "no. of unique songs in the training set: 4496\n",
      "Non zero values in cooccurence_matrix :1210\n",
      "Getting recommendations for user:25fc0200450bbf726c8511fabe31ecfdb81732eb\n",
      "No. of unique songs for the user: 24\n",
      "no. of unique songs in the training set: 4496\n",
      "Non zero values in cooccurence_matrix :2392\n",
      "Getting recommendations for user:700c3f0cdd497ed53b3f0244ab11fb548615835a\n",
      "No. of unique songs for the user: 17\n",
      "no. of unique songs in the training set: 4496\n",
      "Non zero values in cooccurence_matrix :966\n",
      "Getting recommendations for user:36885419d8380902f7f3cc3821d8ed282e6e1600\n",
      "No. of unique songs for the user: 6\n",
      "no. of unique songs in the training set: 4496\n",
      "Non zero values in cooccurence_matrix :259\n",
      "Getting recommendations for user:5a60fbe99993a5d49fe89dfcd36a39b7180316cc\n",
      "No. of unique songs for the user: 3\n",
      "no. of unique songs in the training set: 4496\n",
      "Non zero values in cooccurence_matrix :32\n",
      "Getting recommendations for user:e06fdac28cdd1d69d89de27868d5f02f71c2ee44\n",
      "No. of unique songs for the user: 22\n",
      "no. of unique songs in the training set: 4496\n",
      "Non zero values in cooccurence_matrix :1990\n",
      "Getting recommendations for user:498479b43245566bc99bcf5473cc873bdeb940cf\n",
      "No. of unique songs for the user: 5\n",
      "no. of unique songs in the training set: 4496\n",
      "Non zero values in cooccurence_matrix :103\n",
      "Getting recommendations for user:8c988121b42b7ea022387235373d874902025020\n",
      "No. of unique songs for the user: 7\n",
      "no. of unique songs in the training set: 4496\n",
      "Non zero values in cooccurence_matrix :337\n",
      "Getting recommendations for user:51182330ee3e55d808df31a951032692c5cefe8a\n",
      "No. of unique songs for the user: 16\n",
      "no. of unique songs in the training set: 4496\n",
      "Non zero values in cooccurence_matrix :557\n",
      "Getting recommendations for user:e3e9de8f712b435cdbe4e767ac2c414f585400f1\n",
      "No. of unique songs for the user: 11\n",
      "no. of unique songs in the training set: 4496\n",
      "Non zero values in cooccurence_matrix :426\n",
      "Getting recommendations for user:ea824b9b2e5c9fd5916b1936f57ecb15899c9281\n",
      "No. of unique songs for the user: 9\n",
      "no. of unique songs in the training set: 4496\n",
      "Non zero values in cooccurence_matrix :294\n",
      "Getting recommendations for user:c52c650431343b7a3f1e7d74cf4e404aa1e63745\n",
      "No. of unique songs for the user: 5\n",
      "no. of unique songs in the training set: 4496\n",
      "Non zero values in cooccurence_matrix :179\n",
      "Getting recommendations for user:15415fa2745b344bce958967c346f2a89f792f63\n",
      "No. of unique songs for the user: 28\n",
      "no. of unique songs in the training set: 4496\n",
      "Non zero values in cooccurence_matrix :1307\n",
      "Getting recommendations for user:6b7a5895d266599bc414b9eb8fbad59c95b9a99d\n",
      "No. of unique songs for the user: 14\n",
      "no. of unique songs in the training set: 4496\n",
      "Non zero values in cooccurence_matrix :1371\n",
      "Getting recommendations for user:b009d2161ab50a122f8c81adb7ce0d40e8e42f2d\n",
      "No. of unique songs for the user: 14\n",
      "no. of unique songs in the training set: 4496\n",
      "Non zero values in cooccurence_matrix :572\n",
      "Getting recommendations for user:8bde0ae3eda6b6f26c8a91eb5750d416acb3d508\n",
      "No. of unique songs for the user: 28\n",
      "no. of unique songs in the training set: 4496\n",
      "Non zero values in cooccurence_matrix :2615\n",
      "93.76567101478577\n"
     ]
    }
   ],
   "source": [
    "start = time.time()\n",
    "\n",
    "#Define what percentage of users to use for precision recall calculation\n",
    "user_sample = 0.04\n",
    "\n",
    "#Instantiate the precision_recall_calculator class\n",
    "pr = Evaluation.precision_recall_calculator(test_data, train_data, pm, is_model)\n",
    "\n",
    "#Call method to calculate precision and recall values\n",
    "(pm_avg_precision_list, pm_avg_recall_list, ism_avg_precision_list, ism_avg_recall_list) = pr.calculate_measures(user_sample)\n",
    "\n",
    "end = time.time()\n",
    "print(end - start)"
   ]
  },
  {
   "cell_type": "markdown",
   "metadata": {},
   "source": [
    "## Code to plot precision recall curve"
   ]
  },
  {
   "cell_type": "code",
   "execution_count": 22,
   "metadata": {
    "collapsed": true
   },
   "outputs": [],
   "source": [
    "import pylab as pl\n",
    "\n",
    "#Method to generate precision and recall curve\n",
    "def plot_precision_recall(m1_precision_list, m1_recall_list, m1_label, m2_precision_list, m2_recall_list, m2_label):\n",
    "    pl.clf()    \n",
    "    pl.plot(m1_recall_list, m1_precision_list, label=m1_label)\n",
    "    pl.plot(m2_recall_list, m2_precision_list, label=m2_label)\n",
    "    pl.xlabel('Recall')\n",
    "    pl.ylabel('Precision')\n",
    "    pl.ylim([0.0, 0.20])\n",
    "    pl.xlim([0.0, 0.20])\n",
    "    pl.title('Precision-Recall curve')\n",
    "    #pl.legend(loc=\"upper right\")\n",
    "    pl.legend(loc=9, bbox_to_anchor=(0.5, -0.2))\n",
    "    pl.show()\n"
   ]
  },
  {
   "cell_type": "code",
   "execution_count": 23,
   "metadata": {
    "collapsed": false
   },
   "outputs": [
    {
     "name": "stdout",
     "output_type": "stream",
     "text": [
      "Plotting precision recall curves.\n"
     ]
    },
    {
     "data": {
      "image/png": "[encoded data removed]",
      "text/plain": [
       "<matplotlib.figure.Figure at 0x104e18400>"
      ]
     },
     "metadata": {},
     "output_type": "display_data"
    }
   ],
   "source": [
    "print(\"Plotting precision recall curves.\")\n",
    "\n",
    "plot_precision_recall(pm_avg_precision_list, pm_avg_recall_list, \"popularity_model\",\n",
    "                      ism_avg_precision_list, ism_avg_recall_list, \"item_similarity_model\")"
   ]
  },
  {
   "cell_type": "code",
   "execution_count": 24,
   "metadata": {
    "collapsed": false
   },
   "outputs": [
    {
     "name": "stdout",
     "output_type": "stream",
     "text": [
      "Plotting precision recall curves for the whole dataset (user sample = 0.0005).\n",
      "Plotting precision recall curves.\n"
     ]
    },
    {
     "data": {
      "image/png": "[encoded data removed]",
      "text/plain": [
       "<matplotlib.figure.Figure at 0x10cb48860>"
      ]
     },
     "metadata": {},
     "output_type": "display_data"
    }
   ],
   "source": [
    "print(\"Plotting precision recall curves for the whole dataset (user sample = 0.0005).\")\n",
    "\n",
    "#Read the persisted files \n",
    "pm_avg_precision_list = joblib.load('pm_avg_precision_list.pkl')\n",
    "pm_avg_recall_list = joblib.load('pm_avg_recall_list.pkl')\n",
    "ism_avg_precision_list = joblib.load('ism_avg_precision_list.pkl')\n",
    "ism_avg_recall_list = joblib.load('ism_avg_recall_list.pkl')\n",
    "\n",
    "print(\"Plotting precision recall curves.\")\n",
    "plot_precision_recall(pm_avg_precision_list, pm_avg_recall_list, \"popularity_model\",\n",
    "                      ism_avg_precision_list, ism_avg_recall_list, \"item_similarity_model\")"
   ]
  },
  {
   "cell_type": "markdown",
   "metadata": {
    "collapsed": true
   },
   "source": [
    "The curve shows that the personalized model provides much better performance over the popularity model. "
   ]
  }
 ],
 "metadata": {
  "kernelspec": {
   "display_name": "Python 3",
   "language": "python",
   "name": "python3"
  },
  "language_info": {
   "codemirror_mode": {
    "name": "ipython",
    "version": 3
   },
   "file_extension": ".py",
   "mimetype": "text/x-python",
   "name": "python",
   "nbconvert_exporter": "python",
   "pygments_lexer": "ipython3",
   "version": "3.5.1"
  }
 },
 "nbformat": 4,
 "nbformat_minor": 0
}
